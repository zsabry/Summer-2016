{
 "cells": [
  {
   "cell_type": "code",
   "execution_count": 1,
   "metadata": {
    "collapsed": true
   },
   "outputs": [],
   "source": [
    "import fitsio\n",
    "import numpy as np\n",
    "import pandas as pd\n",
    "from astropy.coordinates import SkyCoord, get_moon, EarthLocation\n",
    "from astropy.time import Time\n",
    "from astropy.io.fits.hdu.hdulist import HDUList\n",
    "from datetime import date\n",
    "from astral import Astral, Location\n",
    "from jdutil import mjd_to_jd, jd_to_date"
   ]
  },
  {
   "cell_type": "code",
   "execution_count": 5,
   "metadata": {
    "collapsed": true
   },
   "outputs": [],
   "source": [
    "def get_var(filename):\n",
    "    #getting RA and DEC\n",
    "    RA=[]\n",
    "    DEC=[]\n",
    "    for i in files:\n",
    "        sampling=fitsio.read_header(i)\n",
    "        RA.append(sampling['RA'])\n",
    "        DEC.append(sampling['DEC'])\n",
    "    #FINDING INTERPLATE SKY TIME\n",
    "    fin_mean=[] #time for each moon sky observation interplate, used for moon angle\n",
    "    for r in range(len(files)): #mechanization of ubiquitious exposure count\n",
    "        sampling=fitsio.read_header(files[r],0) #finding number of exposures\n",
    "        h_beg=[]\n",
    "        h_end=[]\n",
    "        mean_per=[] #time for each moon sky observation intraplate\n",
    "        for k in range(4, sampling['NEXP']+4): #4 is constant for everything\n",
    "            h=fitsio.read_header(files[3],k)\n",
    "            h_beg.append(h['TAI-BEG']) #ONLY VARIES WITH PLATE NUMBER, different for k's\n",
    "            h_end.append(h['TAI-END']) #ONLY VARIES WITH PLATE NUMBER, different for k's\n",
    "            mean_times=(h['TAI-BEG']+h['TAI-END'])/2\n",
    "            mean_per.append(mean_times)\n",
    "        tot=np.mean(mean_per)\n",
    "        fin_mean.append(tot)\n",
    "    #TAI TO MJD\n",
    "    new_time=np.array(fin_mean)\n",
    "    time_MJD=new_time/(86400)\n",
    "    moon_coords1=[]\n",
    "    moon_coords=[]\n",
    "    for i in range (len(time_MJD)):\n",
    "        t=Time(time_MJD[i], format='mjd')\n",
    "        moon_coords1.append(get_moon(t))\n",
    "        moon_coords.append(moon_coords1[i].spherical)\n",
    "    moon_coords=list(moon_coords)\n",
    "    #print(moon_coords)\n",
    "    moon_coords2=[]\n",
    "    for i in range(len(moon_coords)):\n",
    "        moon_coords2.append(moon_coords[i]._values)\n",
    "    moon_coords2=np.array(moon_coords2)\n",
    "    sky_coords=np.vstack((RA,DEC)).T\n",
    "    #SPLITTING ARRAY\n",
    "    new_sky_coords=sky_coords\n",
    "    new_sky_RA = [item[0] for item in new_sky_coords]\n",
    "    new_sky_DEC = [item[1] for item in new_sky_coords]\n",
    "    moon_RA = [item[0] for item in moon_coords2]\n",
    "    moon_DEC = [item[1] for item in moon_coords2]\n",
    "    new_sky_RA=np.array(new_sky_RA)*(np.pi/180)\n",
    "    new_sky_DEC=np.array(new_sky_DEC)*(np.pi/180)\n",
    "    moon_RA=np.array(moon_RA)*(np.pi/180)\n",
    "    moon_DEC=np.array(moon_DEC)*(np.pi/180)\n",
    "    #MOON-SKY ANGLE CALCULATIONS\n",
    "    moon_sky_angle=[]\n",
    "    for i in range(len(new_sky_coords)):\n",
    "        moon_sky_angle.append(np.arccos((np.sin(new_sky_RA[i])*np.sin(moon_RA[i]))+np.cos(new_sky_RA[i])*np.cos(moon_RA[i])*(np.cos(new_sky_DEC[i]-moon_DEC[i])))*(180/np.pi))\n",
    "    #setting up MJD format\n",
    "    con1=[]\n",
    "    date_of_ob=[] #Actual dates\n",
    "    for i in range(len(files)):\n",
    "        con1.append(mjd_to_jd(time_MJD[i]))\n",
    "        date_of_ob.append(jd_to_date(con1[i]))\n",
    "    year = [item[0] for item in date_of_ob]\n",
    "    month = [item[1] for item in date_of_ob]\n",
    "    day = [item[2] for item in date_of_ob]\n",
    "    d=[]\n",
    "    for i in range(len(files)):\n",
    "        d.append(date(int(year[i]),int(month[i]),int(day[i])))\n",
    "    #giving location\n",
    "    l = Location()\n",
    "    l.name = 'Apache Point Observatory'\n",
    "    l.region = 'NM'\n",
    "    l.latitude = 32.780208\n",
    "    l.longitude = -105.819749\n",
    "    l.timezone = 'US/Mountain'\n",
    "    l.elevation = 2790\n",
    "    #calculating moon phase\n",
    "    moon_phases=[]\n",
    "    for i in range(len(files)):\n",
    "        moon_phases.append(l.moon_phase(date=d[i]))\n",
    "    #0=New moon\n",
    "    #7=First quarter\n",
    "    #14=Full moon\n",
    "    #21=Last quarter\n",
    "    moon_phases_array=np.array(moon_phases)\n",
    "    phase=[]\n",
    "    for i in moon_phases_array:\n",
    "        if i == 0:\n",
    "            phase.append(0)\n",
    "        if i == 7:\n",
    "            phase.append(0.5)\n",
    "        if i == 14:\n",
    "            phase.append(1)\n",
    "        if i == 21:\n",
    "            phase.append(0.5)\n",
    "    var=[]\n",
    "    for j in range(len(moon_sky_angle)):\n",
    "        var.append(np.cos(moon_sky_angle[j])*phase[j])\n",
    "    return(var)"
   ]
  },
  {
   "cell_type": "code",
   "execution_count": 6,
   "metadata": {
    "collapsed": false
   },
   "outputs": [],
   "source": [
    "files=('spec-3587-55182-0196.fits','spec-3586-55181-0218.fits','spec-10000-57346-0012.fits', 'spec-10000-57346-0018.fits', 'spec-10000-57346-0028.fits', 'spec-10000-57346-0034.fits', 'spec-10000-57346-0036.fits', 'spec-10000-57346-0044.fits', 'spec-10000-57346-0046.fits', 'spec-10000-57346-0052.fits', 'spec-10000-57346-0064.fits', 'spec-10000-57346-0072.fits', 'spec-10000-57346-0080.fits', 'spec-10000-57346-0082.fits', 'spec-10000-57346-0085.fits', 'spec-10000-57346-0086.fits', 'spec-10000-57346-0105.fits', 'spec-10000-57346-0109.fits', 'spec-10000-57346-0113.fits', 'spec-10000-57346-0128.fits', 'spec-10000-57346-0130.fits', 'spec-10000-57346-0132.fits', 'spec-10000-57346-0149.fits', 'spec-10000-57346-0164.fits', 'spec-10000-57346-0170.fits', 'spec-10000-57346-0173.fits', 'spec-10000-57346-0184.fits', 'spec-10000-57346-0205.fits', 'spec-10000-57346-0206.fits', 'spec-10000-57346-0217.fits', 'spec-10000-57346-0225.fits', 'spec-10000-57346-0242.fits', 'spec-10000-57346-0249.fits', 'spec-10000-57346-0258.fits', 'spec-10000-57346-0272.fits', 'spec-10000-57346-0281.fits', 'spec-10000-57346-0286.fits', 'spec-10000-57346-0289.fits', 'spec-10000-57346-0313.fits', 'spec-10000-57346-0324.fits', 'spec-10000-57346-0330.fits', 'spec-10000-57346-0334.fits', 'spec-10000-57346-0348.fits', 'spec-10000-57346-0366.fits', 'spec-10000-57346-0367.fits', 'spec-10000-57346-0375.fits', 'spec-10000-57346-0398.fits', 'spec-10000-57346-0402.fits', 'spec-10000-57346-0408.fits', 'spec-10000-57346-0418.fits', 'spec-10000-57346-0440.fits', 'spec-10000-57346-0444.fits', 'spec-10000-57346-0446.fits', 'spec-10000-57346-0453.fits', 'spec-10000-57346-0462.fits', 'spec-10000-57346-0486.fits', 'spec-10000-57346-0503.fits', 'spec-10000-57346-0506.fits', 'spec-10000-57346-0518.fits', 'spec-10000-57346-0538.fits', 'spec-10000-57346-0548.fits', 'spec-10000-57346-0550.fits', 'spec-10000-57346-0558.fits', 'spec-10000-57346-0564.fits', 'spec-10000-57346-0587.fits', 'spec-10000-57346-0594.fits', 'spec-10000-57346-0600.fits', 'spec-10000-57346-0609.fits', 'spec-10000-57346-0626.fits', 'spec-10000-57346-0634.fits', 'spec-10000-57346-0636.fits', 'spec-10000-57346-0659.fits', 'spec-10000-57346-0665.fits', 'spec-10000-57346-0672.fits', 'spec-10000-57346-0677.fits', 'spec-10000-57346-0691.fits', 'spec-10000-57346-0704.fits', 'spec-10000-57346-0716.fits', 'spec-10000-57346-0717.fits', 'spec-10000-57346-0735.fits', 'spec-10000-57346-0750.fits', 'spec-10000-57346-0768.fits', 'spec-10000-57346-0782.fits', 'spec-10000-57346-0786.fits', 'spec-10000-57346-0792.fits', 'spec-10000-57346-0812.fits', 'spec-10000-57346-0823.fits', 'spec-10000-57346-0826.fits', 'spec-10000-57346-0832.fits', 'spec-10000-57346-0852.fits', 'spec-10000-57346-0861.fits', 'spec-10000-57346-0868.fits', 'spec-10000-57346-0871.fits', 'spec-10000-57346-0895.fits', 'spec-10000-57346-0905.fits', 'spec-10000-57346-0908.fits', 'spec-10000-57346-0928.fits', 'spec-10000-57346-0929.fits', 'spec-10000-57346-0934.fits', 'spec-10000-57346-0955.fits', 'spec-10000-57346-0956.fits', 'spec-10000-57346-0958.fits', 'spec-10000-57346-0964.fits', 'spec-10000-57346-0965.fits')"
   ]
  },
  {
   "cell_type": "code",
   "execution_count": 7,
   "metadata": {
    "collapsed": true
   },
   "outputs": [
    {
     "data": {
      "text/plain": [
       "[-0.12479730276056686,\n",
       " 0.32893184409365439,\n",
       " -0.17198439018467565,\n",
       " -0.17198439018467565,\n",
       " -0.17198439018467565,\n",
       " -0.17198439018467565,\n",
       " -0.17198439018467565,\n",
       " -0.17198439018467565,\n",
       " -0.17198439018467565,\n",
       " -0.17198439018467565,\n",
       " -0.17198439018467565,\n",
       " -0.17198439018467565,\n",
       " -0.17198439018467565,\n",
       " -0.17198439018467565,\n",
       " -0.17198439018467565,\n",
       " -0.17198439018467565,\n",
       " -0.17198439018467565,\n",
       " -0.17198439018467565,\n",
       " -0.17198439018467565,\n",
       " -0.17198439018467565,\n",
       " -0.17198439018467565,\n",
       " -0.17198439018467565,\n",
       " -0.17198439018467565,\n",
       " -0.17198439018467565,\n",
       " -0.17198439018467565,\n",
       " -0.17198439018467565,\n",
       " -0.17198439018467565,\n",
       " -0.17198439018467565,\n",
       " -0.17198439018467565,\n",
       " -0.17198439018467565,\n",
       " -0.17198439018467565,\n",
       " -0.17198439018467565,\n",
       " -0.17198439018467565,\n",
       " -0.17198439018467565,\n",
       " -0.17198439018467565,\n",
       " -0.17198439018467565,\n",
       " -0.17198439018467565,\n",
       " -0.17198439018467565,\n",
       " -0.17198439018467565,\n",
       " -0.17198439018467565,\n",
       " -0.17198439018467565,\n",
       " -0.17198439018467565,\n",
       " -0.17198439018467565,\n",
       " -0.17198439018467565,\n",
       " -0.17198439018467565,\n",
       " -0.17198439018467565,\n",
       " -0.17198439018467565,\n",
       " -0.17198439018467565,\n",
       " -0.17198439018467565,\n",
       " -0.17198439018467565,\n",
       " -0.17198439018467565,\n",
       " -0.17198439018467565,\n",
       " -0.17198439018467565,\n",
       " -0.17198439018467565,\n",
       " -0.17198439018467565,\n",
       " -0.17198439018467565,\n",
       " -0.17198439018467565,\n",
       " -0.17198439018467565,\n",
       " -0.17198439018467565,\n",
       " -0.17198439018467565,\n",
       " -0.17198439018467565,\n",
       " -0.17198439018467565,\n",
       " -0.17198439018467565,\n",
       " -0.17198439018467565,\n",
       " -0.17198439018467565,\n",
       " -0.17198439018467565,\n",
       " -0.17198439018467565,\n",
       " -0.17198439018467565,\n",
       " -0.17198439018467565,\n",
       " -0.17198439018467565,\n",
       " -0.17198439018467565,\n",
       " -0.17198439018467565,\n",
       " -0.17198439018467565,\n",
       " -0.17198439018467565,\n",
       " -0.17198439018467565,\n",
       " -0.17198439018467565,\n",
       " -0.17198439018467565,\n",
       " -0.17198439018467565,\n",
       " -0.17198439018467565,\n",
       " -0.17198439018467565,\n",
       " -0.17198439018467565,\n",
       " -0.17198439018467565,\n",
       " -0.17198439018467565,\n",
       " -0.17198439018467565,\n",
       " -0.17198439018467565,\n",
       " -0.17198439018467565,\n",
       " -0.17198439018467565,\n",
       " -0.17198439018467565,\n",
       " -0.17198439018467565,\n",
       " -0.17198439018467565,\n",
       " -0.17198439018467565,\n",
       " -0.17198439018467565,\n",
       " -0.17198439018467565,\n",
       " -0.17198439018467565,\n",
       " -0.17198439018467565,\n",
       " -0.17198439018467565,\n",
       " -0.17198439018467565,\n",
       " -0.17198439018467565,\n",
       " -0.17198439018467565,\n",
       " -0.17198439018467565,\n",
       " -0.17198439018467565,\n",
       " -0.17198439018467565,\n",
       " -0.17198439018467565,\n",
       " -0.17198439018467565]"
      ]
     },
     "execution_count": 7,
     "metadata": {},
     "output_type": "execute_result"
    }
   ],
   "source": [
    "get_var(files)"
   ]
  },
  {
   "cell_type": "code",
   "execution_count": 22,
   "metadata": {
    "collapsed": false
   },
   "outputs": [
    {
     "data": {
      "text/plain": [
       "29.815837"
      ]
     },
     "execution_count": 22,
     "metadata": {},
     "output_type": "execute_result"
    }
   ],
   "source": [
    "sampling=fitsio.read_header(files[2])\n",
    "sampling['RA']"
   ]
  },
  {
   "cell_type": "code",
   "execution_count": 23,
   "metadata": {
    "collapsed": false
   },
   "outputs": [],
   "source": [
    "RA=[]\n",
    "DEC=[]\n",
    "for i in files:\n",
    "    sampling=fitsio.read_header(i)\n",
    "    RA.append(sampling['RA'])\n",
    "    DEC.append(sampling['DEC'])"
   ]
  }
 ],
 "metadata": {
  "kernelspec": {
   "display_name": "Python [Root]",
   "language": "python",
   "name": "Python [Root]"
  },
  "language_info": {
   "codemirror_mode": {
    "name": "ipython",
    "version": 2
   },
   "file_extension": ".py",
   "mimetype": "text/x-python",
   "name": "python",
   "nbconvert_exporter": "python",
   "pygments_lexer": "ipython2",
   "version": "2.7.12"
  }
 },
 "nbformat": 4,
 "nbformat_minor": 0
}
