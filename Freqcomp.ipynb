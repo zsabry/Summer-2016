{
 "cells": [
  {
   "cell_type": "code",
   "execution_count": 1,
   "metadata": {
    "collapsed": false
   },
   "outputs": [
    {
     "name": "stdout",
     "output_type": "stream",
     "text": [
      "Populating the interactive namespace from numpy and matplotlib\n"
     ]
    }
   ],
   "source": [
    "import numpy as np\n",
    "import matplotlib.pyplot as plt\n",
    "from numpy.fft import rfft,irfft\n",
    "%pylab inline"
   ]
  },
  {
   "cell_type": "code",
   "execution_count": 2,
   "metadata": {
    "collapsed": true
   },
   "outputs": [],
   "source": [
    "realdata=np.fromfile(\"200ms/200ms_500MHz.bin\",'u2',count=10000000)"
   ]
  },
  {
   "cell_type": "code",
   "execution_count": 3,
   "metadata": {
    "collapsed": true
   },
   "outputs": [],
   "source": [
    "N=len(realdata)\n",
    "dt=1/2.7e9"
   ]
  },
  {
   "cell_type": "code",
   "execution_count": 4,
   "metadata": {
    "collapsed": true
   },
   "outputs": [],
   "source": [
    "onepointzeroGHz=np.fromfile(\"../../Signals/Strong/1.0GHz_strong_5.0dBm.bin\",'u2')\n",
    "onepointoneGHz=np.fromfile(\"../../Signals/Strong/1.1GHz_strong_5.0dBm.bin\",'u2')\n",
    "onepointtwoGHz=np.fromfile(\"../../Signals/Strong/1.2GHz_strong_5.0dBm.bin\",'u2')\n",
    "onepointthreeGHz=np.fromfile(\"../../Signals/Strong/1.3GHz_strong_5.0dBm.bin\",'u2')\n",
    "onepointthreefiveGHz=np.fromfile(\"../../Signals/Strong/1.35GHz_strong_5.0dBm.bin\",'u2')\n",
    "onepointfourGHz=np.fromfile(\"../../Signals/Strong/1.4GHz_strong_5.0dBm.bin\",'u2')\n",
    "onepointsixGHz=np.fromfile(\"../../Signals/Strong/1.6GHz_strong_5.0dBm.bin\",'u2')\n",
    "onehundMHz=np.fromfile(\"../../Signals/Strong/100MHz_strong_5.0dBm.bin\",'u2')\n",
    "fivehundMHz=np.fromfile(\"../../Signals/Strong/500MHz_strong_5.0dBm.bin\",'u2')"
   ]
  },
  {
   "cell_type": "code",
   "execution_count": 5,
   "metadata": {
    "collapsed": true
   },
   "outputs": [],
   "source": [
    "onepointzero=fft.rfft(onepointzeroGHz)\n",
    "onepointone=fft.rfft(onepointoneGHz)\n",
    "onepointtwo=fft.rfft(onepointtwoGHz)\n",
    "onepointthree=fft.rfft(onepointthreeGHz)\n",
    "onepointthreefive=fft.rfft(onepointthreefiveGHz)\n",
    "onepointfour=fft.rfft(onepointfourGHz)\n",
    "onepointsix=fft.rfft(onepointsixGHz)\n",
    "onehund=fft.rfft(onehundMHz)\n",
    "fivehund=fft.rfft(fivehundMHz)"
   ]
  },
  {
   "cell_type": "code",
   "execution_count": 6,
   "metadata": {
    "collapsed": true
   },
   "outputs": [],
   "source": [
    "fderr=fft.rfft(realdata)"
   ]
  },
  {
   "cell_type": "code",
   "execution_count": 7,
   "metadata": {
    "collapsed": true
   },
   "outputs": [],
   "source": [
    "def plotlocal(fd,dt,nu1,nu2):\n",
    "    dnu=1.0/(dt*len(realdata))\n",
    "    i1=int(nu1/dnu)\n",
    "    i2=int(nu2/dnu)\n",
    "    far=arange(i1,i2)*dnu\n",
    "    fdz=fd[i1:i2]\n",
    "    fdz=abs(fdz*fdz)\n",
    "    return far,fdz"
   ]
  },
  {
   "cell_type": "code",
   "execution_count": 8,
   "metadata": {
    "collapsed": true
   },
   "outputs": [],
   "source": [
    "far,fdz=plotlocal(fderr, dt, 500.6e6, 500.8e6)"
   ]
  },
  {
   "cell_type": "code",
   "execution_count": 9,
   "metadata": {
    "collapsed": false
   },
   "outputs": [
    {
     "name": "stdout",
     "output_type": "stream",
     "text": [
      "500.69259 +/- 0.00027\n",
      "ratio 2.00993991695e-06\n"
     ]
    }
   ],
   "source": [
    "nuX=500.69158364e6\n",
    "nuM=far[fdz.argmax()]\n",
    "dnu=1/(N*dt)\n",
    "print (nuM/1e6, \"+/-\", dnu/1e6)\n",
    "print (\"ratio\",nuM/nuX-1)"
   ]
  },
  {
   "cell_type": "code",
   "execution_count": 10,
   "metadata": {
    "collapsed": true
   },
   "outputs": [],
   "source": [
    "def call_values(name, nuX, dt):\n",
    "    nu1= 90.6e6\n",
    "    nu2=1700.6e6\n",
    "    output = np.fromfile(\"../../Signals/Strong/\" + name + \"_strong_5.0dBm.bin\", 'u2')\n",
    "    fd=fft.rfft(output)\n",
    "    dnu=1.0/(dt*len(output))  #length of data changed (m&N), only difference between plotlocal and plotlocal1 \n",
    "    i1=int(nu1/dnu)\n",
    "    i2=int(nu2/dnu)\n",
    "    far=arange(i1,i2)*dnu\n",
    "    fdz=fd[i1:i2]\n",
    "    fdz=abs(fdz*fdz)\n",
    "    #return far,fdz,dnu\n",
    "    nuM=far[fdz.argmax()]\n",
    "    return (nuM/1e6, \"+/-\", dnu/1e6), (\"ratio\",nuM/nuX-1)"
   ]
  },
  {
   "cell_type": "code",
   "execution_count": 11,
   "metadata": {
    "collapsed": false
   },
   "outputs": [],
   "source": [
    "a, b= call_values('100MHz', 100.0e6, dt)"
   ]
  },
  {
   "cell_type": "code",
   "execution_count": 12,
   "metadata": {
    "collapsed": false
   },
   "outputs": [
    {
     "name": "stdout",
     "output_type": "stream",
     "text": [
      "(99.98931884765625, '+/-', 0.04119873046875) ('ratio', -0.0001068115234375)\n"
     ]
    }
   ],
   "source": [
    "print (a, b)"
   ]
  },
  {
   "cell_type": "code",
   "execution_count": null,
   "metadata": {
    "collapsed": true
   },
   "outputs": [],
   "source": []
  }
 ],
 "metadata": {
  "kernelspec": {
   "display_name": "Python 3",
   "language": "python",
   "name": "python3"
  },
  "language_info": {
   "codemirror_mode": {
    "name": "ipython",
    "version": 3
   },
   "file_extension": ".py",
   "mimetype": "text/x-python",
   "name": "python",
   "nbconvert_exporter": "python",
   "pygments_lexer": "ipython3",
   "version": "3.5.1"
  }
 },
 "nbformat": 4,
 "nbformat_minor": 0
}
