{
 "cells": [
  {
   "cell_type": "code",
   "execution_count": 1,
   "metadata": {
    "collapsed": false
   },
   "outputs": [
    {
     "name": "stdout",
     "output_type": "stream",
     "text": [
      "Populating the interactive namespace from numpy and matplotlib\n"
     ]
    }
   ],
   "source": [
    "import numpy as np\n",
    "import matplotlib.pyplot as plt\n",
    "from numpy.fft import rfft,irfft\n",
    "%pylab inline"
   ]
  },
  {
   "cell_type": "code",
   "execution_count": 2,
   "metadata": {
    "collapsed": true
   },
   "outputs": [],
   "source": [
    "realdata=np.fromfile(\"200ms/200ms_500MHz.bin\",'u2',count=10000000)"
   ]
  },
  {
   "cell_type": "code",
   "execution_count": 3,
   "metadata": {
    "collapsed": true
   },
   "outputs": [],
   "source": [
    "N=len(realdata)\n",
    "dt=1/2.7e9"
   ]
  },
  {
   "cell_type": "code",
   "execution_count": 4,
   "metadata": {
    "collapsed": true
   },
   "outputs": [],
   "source": [
    "fderr=fft.rfft(realdata)"
   ]
  },
  {
   "cell_type": "code",
   "execution_count": 5,
   "metadata": {
    "collapsed": true
   },
   "outputs": [],
   "source": [
    "def plotlocal(fd,dt,nu1,nu2):\n",
    "    dnu=1.0/((1/dt)*len(realdata))\n",
    "    i1=int(nu1/dnu)\n",
    "    i2=int(nu2/dnu)\n",
    "    far=arange(i1,i2)*dnu\n",
    "    fdz=fd[i1:i2]\n",
    "    fdz=abs(fdz*fdz)\n",
    "    return far,fdz"
   ]
  },
  {
   "cell_type": "code",
   "execution_count": 6,
   "metadata": {
    "collapsed": true
   },
   "outputs": [],
   "source": [
    "far,fdz=plotlocal(fderr, 2.7e9, 500.6e6, 500.8e6)"
   ]
  },
  {
   "cell_type": "code",
   "execution_count": 7,
   "metadata": {
    "collapsed": false
   },
   "outputs": [
    {
     "name": "stdout",
     "output_type": "stream",
     "text": [
      "500.69259 +/- 0.00027\n",
      "ratio 2.00993991695e-06\n"
     ]
    }
   ],
   "source": [
    "nuX=500.69158364e6\n",
    "nuM=far[fdz.argmax()]\n",
    "dnu=1/(N*dt)\n",
    "print (nuM/1e6, \"+/-\", dnu/1e6)\n",
    "print (\"ratio\",nuM/nuX-1)"
   ]
  },
  {
   "cell_type": "code",
   "execution_count": 24,
   "metadata": {
    "collapsed": true
   },
   "outputs": [],
   "source": [
    "def call_behemoth(name, nuX, dt, nu1, nu2):\n",
    "    output = np.fromfile(\"../../Signals/Strong/\" + name + \"_strong_5.0dBm.bin\", 'u2')\n",
    "    fd=fft.rfft(output)\n",
    "    dnu=1.0/((1/dt)*len(output))  #length of data changed (m&N), only difference between plotlocal and plotlocal1 \n",
    "    i1=int(nu1/dnu)\n",
    "    i2=int(nu2/dnu)\n",
    "    far=arange(i1,i2)*dnu\n",
    "    fdz=fd[i1:i2]\n",
    "    fdz=abs(fdz*fdz)\n",
    "    nuM=far[fdz.argmax()]\n",
    "    return (nuM/1e6), (nuM/nuX-1), dnu/1e6, max(fdz)"
   ]
  },
  {
   "cell_type": "code",
   "execution_count": 25,
   "metadata": {
    "collapsed": false
   },
   "outputs": [
    {
     "name": "stdout",
     "output_type": "stream",
     "text": [
      "fft detect freq= 99.9893188477\n",
      "ratio= -0.000106811523438\n",
      "errbar= 0.04119873046875\n",
      "max power= 2.10708928355e+13\n"
     ]
    }
   ],
   "source": [
    "a,b,aa,fdza= call_behemoth('100MHz', 100.0e6, 2.7e9, 90.0e6, 110.0e6)\n",
    "print('fft detect freq=', a)\n",
    "print('ratio=', b)\n",
    "print('errbar=', aa)\n",
    "print('max power=', fdza)"
   ]
  },
  {
   "cell_type": "code",
   "execution_count": 26,
   "metadata": {
    "collapsed": false
   },
   "outputs": [
    {
     "name": "stdout",
     "output_type": "stream",
     "text": [
      "fft detect freq= 499.987792969\n",
      "ratio= -2.44140625e-05\n",
      "errbar= 0.04119873046875\n",
      "max power= 7.80502267812e+14\n"
     ]
    }
   ],
   "source": [
    "c,d,cc,fdzc=call_behemoth('500MHz', 500.0e6, 2.7e9, 490.0e6, 510.0e6)\n",
    "print('fft detect freq=', c)\n",
    "print('ratio=', d)\n",
    "print('errbar=', cc)\n",
    "print('max power=', fdzc)"
   ]
  },
  {
   "cell_type": "code",
   "execution_count": 27,
   "metadata": {
    "collapsed": false
   },
   "outputs": [
    {
     "name": "stdout",
     "output_type": "stream",
     "text": [
      "fft detect freq= 1000.01678467\n",
      "ratio= 1.67846679688e-05\n",
      "errbar= 0.04119873046875\n",
      "max power= 5.79791458327e+14\n"
     ]
    }
   ],
   "source": [
    "e,f,ee,fdze=call_behemoth('1.0GHz', 1000.0e6, 2.7e9, 990.0e6, 1010.0e6)\n",
    "print('fft detect freq=', e)\n",
    "print('ratio=', f)\n",
    "print('errbar=', ee)\n",
    "print('max power=', fdze)"
   ]
  },
  {
   "cell_type": "code",
   "execution_count": 28,
   "metadata": {
    "collapsed": false
   },
   "outputs": [
    {
     "name": "stdout",
     "output_type": "stream",
     "text": [
      "fft detect freq= 1100.00610352\n",
      "ratio= 5.54865056812e-06\n",
      "errbar= 0.04119873046875\n",
      "max power= 6.4921672995e+14\n"
     ]
    }
   ],
   "source": [
    "g,h,gg,fdzg=call_behemoth('1.1GHz', 1100.0e6, 2.7e9, 1090.0e6, 1110.0e6)\n",
    "print('fft detect freq=', g)\n",
    "print('ratio=', h)\n",
    "print('errbar=', gg)\n",
    "print('max power=', fdzg)"
   ]
  },
  {
   "cell_type": "code",
   "execution_count": 29,
   "metadata": {
    "collapsed": false
   },
   "outputs": [
    {
     "name": "stdout",
     "output_type": "stream",
     "text": [
      "fft detect freq= 1199.99542236\n",
      "ratio= -3.81469726563e-06\n",
      "errbar= 0.04119873046875\n",
      "max power= 4.93729346105e+14\n"
     ]
    }
   ],
   "source": [
    "i,j,ii,fdzi=call_behemoth('1.2GHz', 1200.0e6, 2.7e9, 1190.0e6, 1210.0e6)\n",
    "print('fft detect freq=', i)\n",
    "print('ratio=', j)\n",
    "print('errbar=', ii)\n",
    "print('max power=', fdzi)"
   ]
  },
  {
   "cell_type": "code",
   "execution_count": 30,
   "metadata": {
    "collapsed": false
   },
   "outputs": [
    {
     "name": "stdout",
     "output_type": "stream",
     "text": [
      "fft detect freq= 1300.02593994\n",
      "ratio= 1.99538010817e-05\n",
      "errbar= 0.04119873046875\n",
      "max power= 2.09582649248e+14\n"
     ]
    }
   ],
   "source": [
    "k,l,kk,fdzk=call_behemoth('1.3GHz', 1300.0e6, 2.7e9, 1290.0e6, 1310.0e6)\n",
    "print('fft detect freq=', k)\n",
    "print('ratio=', l)\n",
    "print('errbar=', kk)\n",
    "print('max power=', fdzk)"
   ]
  },
  {
   "cell_type": "code",
   "execution_count": 31,
   "metadata": {
    "collapsed": false
   },
   "outputs": [
    {
     "name": "stdout",
     "output_type": "stream",
     "text": [
      "fft detect freq= 1355.5\n",
      "ratio= 0.00407407407407\n",
      "errbar= 0.0413665771484375\n",
      "max power= 1.6896872047e+15\n"
     ]
    }
   ],
   "source": [
    "m,n,mm,fdzm=call_behemoth('1.35GHz',1350.0e6, 2.711e9, 1340.0e6, 1360.0e6)\n",
    "print('fft detect freq=', m)\n",
    "print('ratio=', n)\n",
    "print('errbar=', mm)\n",
    "print('max power=', fdzm)"
   ]
  },
  {
   "cell_type": "code",
   "execution_count": 32,
   "metadata": {
    "collapsed": false
   },
   "outputs": [
    {
     "name": "stdout",
     "output_type": "stream",
     "text": [
      "fft detect freq= 1396.27990723\n",
      "ratio= -0.00265720912388\n",
      "errbar= 0.04425048828125\n",
      "max power= 3.76637036697e+14\n"
     ]
    }
   ],
   "source": [
    "o,p,oo,fdzo=call_behemoth('1.4GHz', 1400.0e6, 2.9e9, 1390.0e6, 1410.0e6)\n",
    "print('fft detect freq=', o)\n",
    "print('ratio=', p)\n",
    "print('errbar=', oo)\n",
    "print('max power=', fdzo)"
   ]
  },
  {
   "cell_type": "code",
   "execution_count": 33,
   "metadata": {
    "collapsed": false
   },
   "outputs": [
    {
     "name": "stdout",
     "output_type": "stream",
     "text": [
      "fft detect freq= 1600.30517578\n",
      "ratio= 0.000190734863281\n",
      "errbar= 0.0599365234375\n",
      "max power= 2.14029778394e+14\n"
     ]
    }
   ],
   "source": [
    "q,r,qq,fdzq=call_behemoth('1.6GHz', 1600.0e6, 3.928e9, 1590.0e6, 1610.0e6)\n",
    "print('fft detect freq=', q)\n",
    "print('ratio=', r)\n",
    "print('errbar=', qq)\n",
    "print('max power=', fdzq)"
   ]
  },
  {
   "cell_type": "code",
   "execution_count": 34,
   "metadata": {
    "collapsed": false
   },
   "outputs": [],
   "source": [
    "ratios=(b,d,f,h,j,l,n,p,r)"
   ]
  },
  {
   "cell_type": "code",
   "execution_count": 35,
   "metadata": {
    "collapsed": false
   },
   "outputs": [
    {
     "name": "stdout",
     "output_type": "stream",
     "text": [
      "(-0.0001068115234375, -2.4414062499977796e-05, 1.6784667968838818e-05, 5.5486505681212606e-06, -3.814697265625e-06, 1.9953801081662448e-05, 0.0040740740740741188, -0.0026572091238838969, 0.00019073486328125)\n"
     ]
    }
   ],
   "source": [
    "print(ratios)"
   ]
  },
  {
   "cell_type": "code",
   "execution_count": 36,
   "metadata": {
    "collapsed": false
   },
   "outputs": [],
   "source": [
    "freqs=(100, 500, 1000, 1100, 1200, 1300, 1350, 1400, 1600)\n",
    "err=(aa,cc,ee,gg,ii,kk,mm,oo,qq,)"
   ]
  },
  {
   "cell_type": "code",
   "execution_count": 37,
   "metadata": {
    "collapsed": false
   },
   "outputs": [
    {
     "data": {
      "text/plain": [
       "<Container object of 3 artists>"
      ]
     },
     "execution_count": 37,
     "metadata": {},
     "output_type": "execute_result"
    },
    {
     "data": {
      "image/png": "[encoded data removed]",
      "text/plain": [
       "<matplotlib.figure.Figure at 0x1afd8eaca20>"
      ]
     },
     "metadata": {},
     "output_type": "display_data"
    }
   ],
   "source": [
    "plot(freqs, ratios)\n",
    "ylim(-0.1, 0.1)\n",
    "errorbar(freqs,ratios,fmt='b-',yerr=err)"
   ]
  },
  {
   "cell_type": "code",
   "execution_count": null,
   "metadata": {
    "collapsed": true
   },
   "outputs": [],
   "source": []
  }
 ],
 "metadata": {
  "kernelspec": {
   "display_name": "Python 3",
   "language": "python",
   "name": "python3"
  },
  "language_info": {
   "codemirror_mode": {
    "name": "ipython",
    "version": 3
   },
   "file_extension": ".py",
   "mimetype": "text/x-python",
   "name": "python",
   "nbconvert_exporter": "python",
   "pygments_lexer": "ipython3",
   "version": "3.5.1"
  }
 },
 "nbformat": 4,
 "nbformat_minor": 0
}
