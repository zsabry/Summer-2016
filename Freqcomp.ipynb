{
 "cells": [
  {
   "cell_type": "code",
   "execution_count": 1,
   "metadata": {
    "collapsed": false
   },
   "outputs": [
    {
     "name": "stdout",
     "output_type": "stream",
     "text": [
      "Populating the interactive namespace from numpy and matplotlib\n"
     ]
    }
   ],
   "source": [
    "import numpy as np\n",
    "import matplotlib.pyplot as plt\n",
    "from numpy.fft import rfft,irfft\n",
    "%pylab inline"
   ]
  },
  {
   "cell_type": "code",
   "execution_count": 2,
   "metadata": {
    "collapsed": true
   },
   "outputs": [],
   "source": [
    "realdata=np.fromfile(\"200ms/200ms_500MHz.bin\",'u2',count=10000000)"
   ]
  },
  {
   "cell_type": "code",
   "execution_count": 3,
   "metadata": {
    "collapsed": true
   },
   "outputs": [],
   "source": [
    "N=len(realdata)\n",
    "dt=1/2.7e9"
   ]
  },
  {
   "cell_type": "code",
   "execution_count": 4,
   "metadata": {
    "collapsed": true
   },
   "outputs": [],
   "source": [
    "onepointzeroGHz=np.fromfile(\"../../Signals/Strong/1.0GHz_strong_5.0dBm.bin\",'u2')\n",
    "onepointoneGHz=np.fromfile(\"../../Signals/Strong/1.1GHz_strong_5.0dBm.bin\",'u2')\n",
    "onepointtwoGHz=np.fromfile(\"../../Signals/Strong/1.2GHz_strong_5.0dBm.bin\",'u2')\n",
    "onepointthreeGHz=np.fromfile(\"../../Signals/Strong/1.3GHz_strong_5.0dBm.bin\",'u2')\n",
    "onepointthreefiveGHz=np.fromfile(\"../../Signals/Strong/1.35GHz_strong_5.0dBm.bin\",'u2')\n",
    "onepointfourGHz=np.fromfile(\"../../Signals/Strong/1.4GHz_strong_5.0dBm.bin\",'u2')\n",
    "onepointsixGHz=np.fromfile(\"../../Signals/Strong/1.6GHz_strong_5.0dBm.bin\",'u2')\n",
    "onehundMHz=np.fromfile(\"../../Signals/Strong/100MHz_strong_5.0dBm.bin\",'u2')\n",
    "fivehundMHz=np.fromfile(\"../../Signals/Strong/500MHz_strong_5.0dBm.bin\",'u2')"
   ]
  },
  {
   "cell_type": "code",
   "execution_count": 5,
   "metadata": {
    "collapsed": true
   },
   "outputs": [],
   "source": [
    "onepointzero=fft.rfft(onepointzeroGHz)\n",
    "onepointone=fft.rfft(onepointoneGHz)\n",
    "onepointtwo=fft.rfft(onepointtwoGHz)\n",
    "onepointthree=fft.rfft(onepointthreeGHz)\n",
    "onepointthreefive=fft.rfft(onepointthreefiveGHz)\n",
    "onepointfour=fft.rfft(onepointfourGHz)\n",
    "onepointsix=fft.rfft(onepointsixGHz)\n",
    "onehund=fft.rfft(onehundMHz)\n",
    "fivehund=fft.rfft(fivehundMHz)"
   ]
  },
  {
   "cell_type": "code",
   "execution_count": 6,
   "metadata": {
    "collapsed": true
   },
   "outputs": [],
   "source": [
    "fderr=fft.rfft(realdata)"
   ]
  },
  {
   "cell_type": "code",
   "execution_count": 7,
   "metadata": {
    "collapsed": true
   },
   "outputs": [],
   "source": [
    "def plotlocal(fd,dt,nu1,nu2):\n",
    "    dnu=1.0/((1/dt)*len(realdata))\n",
    "    i1=int(nu1/dnu)\n",
    "    i2=int(nu2/dnu)\n",
    "    far=arange(i1,i2)*dnu\n",
    "    fdz=fd[i1:i2]\n",
    "    fdz=abs(fdz*fdz)\n",
    "    return far,fdz"
   ]
  },
  {
   "cell_type": "code",
   "execution_count": 8,
   "metadata": {
    "collapsed": true
   },
   "outputs": [],
   "source": [
    "far,fdz=plotlocal(fderr, 2.7e9, 500.6e6, 500.8e6)"
   ]
  },
  {
   "cell_type": "code",
   "execution_count": 9,
   "metadata": {
    "collapsed": false
   },
   "outputs": [
    {
     "name": "stdout",
     "output_type": "stream",
     "text": [
      "500.69259 +/- 0.00027\n",
      "ratio 2.00993991695e-06\n"
     ]
    }
   ],
   "source": [
    "nuX=500.69158364e6\n",
    "nuM=far[fdz.argmax()]\n",
    "dnu=1/(N*dt)\n",
    "print (nuM/1e6, \"+/-\", dnu/1e6)\n",
    "print (\"ratio\",nuM/nuX-1)"
   ]
  },
  {
   "cell_type": "code",
   "execution_count": 118,
   "metadata": {
    "collapsed": true
   },
   "outputs": [],
   "source": [
    "def call_strong(name, nuX, dt):\n",
    "    nu1= 90.6e6\n",
    "    nu2=1700.6e6\n",
    "    output = np.fromfile(\"../../Signals/Strong/\" + name + \"_strong_5.0dBm.bin\", 'u2')\n",
    "    fd=fft.rfft(output)\n",
    "    dnu=1.0/((1/dt)*len(output))  #length of data changed (m&N), only difference between plotlocal and plotlocal1 \n",
    "    i1=int(nu1/dnu)\n",
    "    i2=int(nu2/dnu)\n",
    "    far=arange(i1,i2)*dnu\n",
    "    fdz=fd[i1:i2]\n",
    "    fdz=abs(fdz*fdz)\n",
    "    #return far,fdz,dnu\n",
    "    nuM=far[fdz.argmax()]\n",
    "    return (nuM/1e6, \"+/-\", dnu/1e6), (nuM/nuX-1), dnu/1e6"
   ]
  },
  {
   "cell_type": "code",
   "execution_count": 121,
   "metadata": {
    "collapsed": false
   },
   "outputs": [
    {
     "name": "stdout",
     "output_type": "stream",
     "text": [
      "(99.98931884765625, '+/-', 0.04119873046875)\n",
      "-0.000106811523438\n",
      "0.04119873046875\n"
     ]
    }
   ],
   "source": [
    "a,b,aa= call_strong('100MHz', 100.0e6, 2.7e9)\n",
    "print(a)\n",
    "print(b)\n",
    "print(aa)"
   ]
  },
  {
   "cell_type": "code",
   "execution_count": 122,
   "metadata": {
    "collapsed": false
   },
   "outputs": [
    {
     "name": "stdout",
     "output_type": "stream",
     "text": [
      "(499.98779296875, '+/-', 0.04119873046875)\n",
      "-2.44140625e-05\n"
     ]
    }
   ],
   "source": [
    "c,d,cc=call_strong('500MHz', 500.0e6, 2.7e9)\n",
    "print(c)\n",
    "print(d)"
   ]
  },
  {
   "cell_type": "code",
   "execution_count": 123,
   "metadata": {
    "collapsed": false
   },
   "outputs": [
    {
     "name": "stdout",
     "output_type": "stream",
     "text": [
      "(1000.0167846679688, '+/-', 0.04119873046875)\n",
      "1.67846679688e-05\n"
     ]
    }
   ],
   "source": [
    "e,f,ee=call_strong('1.0GHz', 1000.0e6, 2.7e9)\n",
    "print(e)\n",
    "print(f)"
   ]
  },
  {
   "cell_type": "code",
   "execution_count": 124,
   "metadata": {
    "collapsed": false
   },
   "outputs": [
    {
     "name": "stdout",
     "output_type": "stream",
     "text": [
      "(1100.006103515625, '+/-', 0.04119873046875)\n",
      "5.54865056812e-06\n"
     ]
    }
   ],
   "source": [
    "g,h,gg=call_strong('1.1GHz', 1100.0e6, 2.7e9)\n",
    "print(g)\n",
    "print(h)"
   ]
  },
  {
   "cell_type": "code",
   "execution_count": 125,
   "metadata": {
    "collapsed": false
   },
   "outputs": [
    {
     "name": "stdout",
     "output_type": "stream",
     "text": [
      "(1199.9954223632813, '+/-', 0.04119873046875)\n",
      "-3.81469726563e-06\n"
     ]
    }
   ],
   "source": [
    "i,j,ii=call_strong('1.2GHz', 1200.0e6, 2.7e9)\n",
    "print(i)\n",
    "print(j)"
   ]
  },
  {
   "cell_type": "code",
   "execution_count": 126,
   "metadata": {
    "collapsed": false
   },
   "outputs": [
    {
     "name": "stdout",
     "output_type": "stream",
     "text": [
      "(1300.0259399414063, '+/-', 0.04119873046875)\n",
      "1.99538010817e-05\n"
     ]
    }
   ],
   "source": [
    "k,l,kk=call_strong('1.3GHz', 1300.0e6, 2.7e9)\n",
    "print(k)\n",
    "print(l)"
   ]
  },
  {
   "cell_type": "code",
   "execution_count": 127,
   "metadata": {
    "collapsed": false
   },
   "outputs": [
    {
     "name": "stdout",
     "output_type": "stream",
     "text": [
      "(1355.5, '+/-', 0.0413665771484375)\n",
      "0.00407407407407\n"
     ]
    }
   ],
   "source": [
    "m,n,mm=call_strong('1.35GHz',1350.0e6, 2.711e9)\n",
    "print(m)\n",
    "print(n)"
   ]
  },
  {
   "cell_type": "code",
   "execution_count": 128,
   "metadata": {
    "collapsed": false
   },
   "outputs": [
    {
     "name": "stdout",
     "output_type": "stream",
     "text": [
      "(1396.2799072265625, '+/-', 0.04425048828125)\n",
      "-0.00265720912388\n"
     ]
    }
   ],
   "source": [
    "o,p,oo=call_strong('1.4GHz', 1400.0e6, 2.9e9)\n",
    "print(o)\n",
    "print(p)"
   ]
  },
  {
   "cell_type": "code",
   "execution_count": 129,
   "metadata": {
    "collapsed": false
   },
   "outputs": [
    {
     "name": "stdout",
     "output_type": "stream",
     "text": [
      "(1600.30517578125, '+/-', 0.0599365234375)\n",
      "0.000190734863281\n"
     ]
    }
   ],
   "source": [
    "q,r,qq=call_strong('1.6GHz', 1600.0e6, 3.928e9)\n",
    "print(q)\n",
    "print(r)"
   ]
  },
  {
   "cell_type": "code",
   "execution_count": 130,
   "metadata": {
    "collapsed": false
   },
   "outputs": [],
   "source": [
    "ratios=(b,d,f,h,j,l,n,p,r)"
   ]
  },
  {
   "cell_type": "code",
   "execution_count": 131,
   "metadata": {
    "collapsed": false
   },
   "outputs": [
    {
     "name": "stdout",
     "output_type": "stream",
     "text": [
      "(-0.0001068115234375, -2.4414062499977796e-05, 1.6784667968838818e-05, 5.5486505681212606e-06, -3.814697265625e-06, 1.9953801081662448e-05, 0.0040740740740741188, -0.0026572091238838969, 0.00019073486328125)\n"
     ]
    }
   ],
   "source": [
    "print(ratios)"
   ]
  },
  {
   "cell_type": "code",
   "execution_count": 138,
   "metadata": {
    "collapsed": false
   },
   "outputs": [],
   "source": [
    "freqs=(100, 500, 1000, 1100, 1200, 1300, 1350, 1400, 1600)\n",
    "err=(aa,cc,ee,gg,ii,kk,mm,oo,qq,)"
   ]
  },
  {
   "cell_type": "code",
   "execution_count": 142,
   "metadata": {
    "collapsed": false
   },
   "outputs": [
    {
     "data": {
      "text/plain": [
       "<Container object of 3 artists>"
      ]
     },
     "execution_count": 142,
     "metadata": {},
     "output_type": "execute_result"
    },
    {
     "data": {
      "image/png": "[encoded data removed]",
      "text/plain": [
       "<matplotlib.figure.Figure at 0x1e5019f3208>"
      ]
     },
     "metadata": {},
     "output_type": "display_data"
    }
   ],
   "source": [
    "plt.plot(freqs, ratio)\n",
    "plt.ylim(-0.1, 0.1)\n",
    "errorbar(freqs,ratio,fmt='b-',yerr=err)"
   ]
  },
  {
   "cell_type": "code",
   "execution_count": null,
   "metadata": {
    "collapsed": true
   },
   "outputs": [],
   "source": []
  }
 ],
 "metadata": {
  "kernelspec": {
   "display_name": "Python 3",
   "language": "python",
   "name": "python3"
  },
  "language_info": {
   "codemirror_mode": {
    "name": "ipython",
    "version": 3
   },
   "file_extension": ".py",
   "mimetype": "text/x-python",
   "name": "python",
   "nbconvert_exporter": "python",
   "pygments_lexer": "ipython3",
   "version": "3.5.1"
  }
 },
 "nbformat": 4,
 "nbformat_minor": 0
}
