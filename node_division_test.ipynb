{
 "cells": [
  {
   "cell_type": "code",
   "execution_count": 1,
   "metadata": {
    "collapsed": false
   },
   "outputs": [
    {
     "name": "stdout",
     "output_type": "stream",
     "text": [
      "Populating the interactive namespace from numpy and matplotlib\n"
     ]
    }
   ],
   "source": [
    "import fitsio\n",
    "import numpy as np\n",
    "#import healpy as hp\n",
    "import pandas as pd\n",
    "import matplotlib.pyplot as plt\n",
    "#import b64encode\n",
    "import mechanize\n",
    "#from astropy import units as u\n",
    "#from astropy.coordinates import SkyCoord, get_moon, EarthLocation\n",
    "#from astropy.time import Time\n",
    "#from astropy.io import fits\n",
    "%pylab inline\n",
    "%matplotlib inline"
   ]
  },
  {
   "cell_type": "code",
   "execution_count": 2,
   "metadata": {
    "collapsed": true
   },
   "outputs": [],
   "source": [
    "#loading file from csv sample\n",
    "file_name = 'subset_spAll-v5_10_0.csv'\n",
    "df_SKY=pd.read_csv(file_name)\n",
    "\n",
    "#populating data frame\n",
    "new_SKY = df_SKY.query('OBJTYPE==\"SKY\".ljust(16)')\n",
    "\n",
    "#pulling arrays from data frames\n",
    "DEC = np.array(new_SKY['DEC'].tolist())\n",
    "FIBERID = np.array(new_SKY['FIBERID'].tolist())\n",
    "MJD = np.array(new_SKY['MJD'].tolist())\n",
    "RA = np.array(new_SKY['RA'].tolist())\n",
    "\n",
    "#reading files\n",
    "def read_flux_file(files):\n",
    "#    files+='spectra/'\n",
    "    fits = fitsio.FITS(files)\n",
    "    cols = ['flux','loglam','ivar','and_mask','or_mask', 'sky', 'wdisp', 'model']\n",
    "    d = {col: fits[1][col].read().byteswap().newbyteorder() for col in cols}\n",
    "    df = pd.DataFrame(d)\n",
    "    return df\n",
    "\n",
    "#number of nodes in cluster\n",
    "nodes=5\n",
    "#file length/nodes (len(DEC)/nodes)\n",
    "node_length=(100/nodes)"
   ]
  },
  {
   "cell_type": "code",
   "execution_count": 4,
   "metadata": {
    "collapsed": false
   },
   "outputs": [
    {
     "name": "stdout",
     "output_type": "stream",
     "text": [
      "0\n"
     ]
    },
    {
     "ename": "ValueError",
     "evalue": "No objects to concatenate",
     "output_type": "error",
     "traceback": [
      "\u001b[1;31m---------------------------------------------------------------------------\u001b[0m",
      "\u001b[1;31mValueError\u001b[0m                                Traceback (most recent call last)",
      "\u001b[1;32m<ipython-input-4-f0c13a855743>\u001b[0m in \u001b[0;36m<module>\u001b[1;34m()\u001b[0m\n\u001b[0;32m     40\u001b[0m \u001b[1;33m\u001b[0m\u001b[0m\n\u001b[0;32m     41\u001b[0m         \u001b[0mx\u001b[0m \u001b[1;33m=\u001b[0m\u001b[0mrange\u001b[0m\u001b[1;33m(\u001b[0m\u001b[0mlen\u001b[0m\u001b[1;33m(\u001b[0m\u001b[0mfiles\u001b[0m\u001b[1;33m)\u001b[0m\u001b[1;33m)\u001b[0m\u001b[1;33m\u001b[0m\u001b[0m\n\u001b[1;32m---> 42\u001b[1;33m         \u001b[0mresult\u001b[0m \u001b[1;33m=\u001b[0m \u001b[0mpd\u001b[0m\u001b[1;33m.\u001b[0m\u001b[0mconcat\u001b[0m\u001b[1;33m(\u001b[0m\u001b[1;33m[\u001b[0m\u001b[0mdt_s\u001b[0m\u001b[1;33m[\u001b[0m\u001b[0mi\u001b[0m\u001b[1;33m]\u001b[0m\u001b[1;33m[\u001b[0m\u001b[1;33m[\u001b[0m\u001b[1;34m'flux_%s'\u001b[0m\u001b[1;33m%\u001b[0m\u001b[1;33m(\u001b[0m\u001b[0mi\u001b[0m\u001b[1;33m)\u001b[0m\u001b[1;33m,\u001b[0m\u001b[1;34m'ivar_%s'\u001b[0m\u001b[1;33m%\u001b[0m\u001b[1;33m(\u001b[0m\u001b[0mi\u001b[0m\u001b[1;33m)\u001b[0m\u001b[1;33m,\u001b[0m\u001b[1;34m'sky_%s'\u001b[0m\u001b[1;33m%\u001b[0m\u001b[1;33m(\u001b[0m\u001b[0mi\u001b[0m\u001b[1;33m)\u001b[0m\u001b[1;33m]\u001b[0m\u001b[1;33m]\u001b[0m \u001b[1;32mfor\u001b[0m \u001b[0mi\u001b[0m \u001b[1;32min\u001b[0m \u001b[0mx\u001b[0m\u001b[1;33m]\u001b[0m\u001b[1;33m,\u001b[0m \u001b[0maxis\u001b[0m\u001b[1;33m=\u001b[0m\u001b[1;36m1\u001b[0m\u001b[1;33m)\u001b[0m\u001b[1;33m\u001b[0m\u001b[0m\n\u001b[0m\u001b[0;32m     43\u001b[0m         \u001b[0mall_sky\u001b[0m\u001b[1;33m=\u001b[0m \u001b[0mresult\u001b[0m\u001b[1;33m.\u001b[0m\u001b[0mfillna\u001b[0m\u001b[1;33m(\u001b[0m\u001b[1;36m0\u001b[0m\u001b[1;33m)\u001b[0m\u001b[1;33m.\u001b[0m\u001b[0mcopy\u001b[0m\u001b[1;33m(\u001b[0m\u001b[1;33m)\u001b[0m\u001b[1;33m\u001b[0m\u001b[0m\n\u001b[0;32m     44\u001b[0m         \u001b[1;31m#all_sky.head()\u001b[0m\u001b[1;33m\u001b[0m\u001b[1;33m\u001b[0m\u001b[0m\n",
      "\u001b[1;32m/home/zsabry/anaconda2/lib/python2.7/site-packages/pandas/tools/merge.pyc\u001b[0m in \u001b[0;36mconcat\u001b[1;34m(objs, axis, join, join_axes, ignore_index, keys, levels, names, verify_integrity, copy)\u001b[0m\n\u001b[0;32m    843\u001b[0m                        \u001b[0mkeys\u001b[0m\u001b[1;33m=\u001b[0m\u001b[0mkeys\u001b[0m\u001b[1;33m,\u001b[0m \u001b[0mlevels\u001b[0m\u001b[1;33m=\u001b[0m\u001b[0mlevels\u001b[0m\u001b[1;33m,\u001b[0m \u001b[0mnames\u001b[0m\u001b[1;33m=\u001b[0m\u001b[0mnames\u001b[0m\u001b[1;33m,\u001b[0m\u001b[1;33m\u001b[0m\u001b[0m\n\u001b[0;32m    844\u001b[0m                        \u001b[0mverify_integrity\u001b[0m\u001b[1;33m=\u001b[0m\u001b[0mverify_integrity\u001b[0m\u001b[1;33m,\u001b[0m\u001b[1;33m\u001b[0m\u001b[0m\n\u001b[1;32m--> 845\u001b[1;33m                        copy=copy)\n\u001b[0m\u001b[0;32m    846\u001b[0m     \u001b[1;32mreturn\u001b[0m \u001b[0mop\u001b[0m\u001b[1;33m.\u001b[0m\u001b[0mget_result\u001b[0m\u001b[1;33m(\u001b[0m\u001b[1;33m)\u001b[0m\u001b[1;33m\u001b[0m\u001b[0m\n\u001b[0;32m    847\u001b[0m \u001b[1;33m\u001b[0m\u001b[0m\n",
      "\u001b[1;32m/home/zsabry/anaconda2/lib/python2.7/site-packages/pandas/tools/merge.pyc\u001b[0m in \u001b[0;36m__init__\u001b[1;34m(self, objs, axis, join, join_axes, keys, levels, names, ignore_index, verify_integrity, copy)\u001b[0m\n\u001b[0;32m    876\u001b[0m \u001b[1;33m\u001b[0m\u001b[0m\n\u001b[0;32m    877\u001b[0m         \u001b[1;32mif\u001b[0m \u001b[0mlen\u001b[0m\u001b[1;33m(\u001b[0m\u001b[0mobjs\u001b[0m\u001b[1;33m)\u001b[0m \u001b[1;33m==\u001b[0m \u001b[1;36m0\u001b[0m\u001b[1;33m:\u001b[0m\u001b[1;33m\u001b[0m\u001b[0m\n\u001b[1;32m--> 878\u001b[1;33m             \u001b[1;32mraise\u001b[0m \u001b[0mValueError\u001b[0m\u001b[1;33m(\u001b[0m\u001b[1;34m'No objects to concatenate'\u001b[0m\u001b[1;33m)\u001b[0m\u001b[1;33m\u001b[0m\u001b[0m\n\u001b[0m\u001b[0;32m    879\u001b[0m \u001b[1;33m\u001b[0m\u001b[0m\n\u001b[0;32m    880\u001b[0m         \u001b[1;32mif\u001b[0m \u001b[0mkeys\u001b[0m \u001b[1;32mis\u001b[0m \u001b[0mNone\u001b[0m\u001b[1;33m:\u001b[0m\u001b[1;33m\u001b[0m\u001b[0m\n",
      "\u001b[1;31mValueError\u001b[0m: No objects to concatenate"
     ]
    }
   ],
   "source": [
    "sum_nodes=[]\n",
    "for n in range(nodes):\n",
    "    node_part=[]\n",
    "    for j in range(node_length):\n",
    "        #loading in all files in range\n",
    "        plates   = list(new_SKY['PLATE'][(j*n):(j*(n+1))].values)\n",
    "        mjds   = list(new_SKY['MJD'][(j*n):(j*(n+1))].values)\n",
    "        fiberids   = list(new_SKY['FIBERID'][(j*n):(j*(n+1))].values)\n",
    "        \n",
    "        #getting file names\n",
    "        files = ['spec-%s-%s-%s.fits'%(plate,mjd,str(fiberid).zfill(4)) for plate,mjd,fiberid in zip(plates,mjds,fiberids)] #in cluster ['%s/spec...\n",
    "        plate_n = ['%s'%(plate) for plate in plates]\n",
    "\n",
    "        #reading files' loglam in\n",
    "        dt_s=[]\n",
    "        for l in files:\n",
    "            dt_x = read_flux_file(l).set_index('loglam')\n",
    "            dt_s.append(dt_x)\n",
    "            \n",
    "        # Masking\n",
    "        mask=[]\n",
    "        for s in dt_s:\n",
    "            mask.append(s.query('and_mask==0').copy())\n",
    "        #mask[1].head()\n",
    "        \n",
    "        #plot of each spectrum\n",
    "#        fig = plt.figure(figsize = (15, 10))\n",
    "#        xlimits = [3.55,4]\n",
    "#        ylimits = [-10,20]\n",
    "#        for i in range(len(files)):\n",
    "#            dt_s[i]['flux'].plot(label=files[i],xlim=xlimits, ylim=ylimits)\n",
    "#            dt_s[i]['sky'].plot(label=files[i],xlim=xlimits, ylim=ylimits)\n",
    "#        plt.legend(loc='best')\n",
    "        \n",
    "#        print len(dt_s)\n",
    "        for i in range(len(files)):\n",
    "            dt_s[i]['flux_%s'%(i)] = dt_s[i]['flux']\n",
    "            dt_s[i]['ivar_%s'%(i)] = dt_s[i]['ivar']\n",
    "            dt_s[i]['sky_%s'%(i)] = dt_s[i]['sky']\n",
    "                       \n",
    "        x =range(len(files))\n",
    "        result = pd.concat([dt_s[i][['flux_%s'%(i),'ivar_%s'%(i),'sky_%s'%(i)]] for i in x], axis=1)\n",
    "        all_sky= result.fillna(0).copy()\n",
    "        #all_sky.head()"
   ]
  },
  {
   "cell_type": "code",
   "execution_count": null,
   "metadata": {
    "collapsed": true
   },
   "outputs": [],
   "source": []
  }
 ],
 "metadata": {
  "kernelspec": {
   "display_name": "Python [Root]",
   "language": "python",
   "name": "Python [Root]"
  },
  "language_info": {
   "codemirror_mode": {
    "name": "ipython",
    "version": 2
   },
   "file_extension": ".py",
   "mimetype": "text/x-python",
   "name": "python",
   "nbconvert_exporter": "python",
   "pygments_lexer": "ipython2",
   "version": "2.7.12"
  }
 },
 "nbformat": 4,
 "nbformat_minor": 0
}
